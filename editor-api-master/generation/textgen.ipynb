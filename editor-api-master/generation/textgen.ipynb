{
 "cells": [
  {
   "cell_type": "markdown",
   "metadata": {
    "collapsed": false
   },
   "source": [
    "\n",
    "## 📖1.PaddleHub介绍\n",
    "\n",
    "<font size=4 face=\"仿宋\">\n",
    "  \n",
    "通过API便捷地获取PaddlePaddle生态下的预训练模型，完成模型的管理和一键预测。配合使用Fine-tune API，可以基于大规模预训练模型快速完成迁移学习，让预训练模型能更好地服务于用户特定场景的应用。\n",
    "\n",
    "* 基于优秀的社区生态和持续的投入，飞桨(PaddlePaddle)已经有一批可以直接调用的模型，可以快速实现想法。\n",
    "\n",
    "* 这些模型被根据不同方向存在不同的套件中，例如：基于NLP的PaddleNLP，基于GAN的PaddleGAN等.\n",
    "\n",
    "> 如果遇到关键点检测，分割，目标识别等任务，不妨先看看[PaddleHub模型库](https://www.paddlepaddle.org.cn/hublist)\n",
    "\n",
    "</font>\n",
    "\n",
    "### ⏲️ 1.1 安装说明\n",
    "\n",
    "<font size=4 face=\"仿宋\">\n",
    "  \n",
    "* PaddlePaddle 安装\n",
    "\n",
    "   本项目依赖于 PaddlePaddle 2.2 及以上版本，请参考 [安装指南](https://www.paddlepaddle.org.cn/install/quick?docurl=/documentation/docs/zh/install/pip/windows-pip.html) 进行安装\n",
    "\n",
    "* PaddleNLP 安装\n",
    "\n",
    "\n",
    "   pip install --upgrade paddlenlp -i https://pypi.org/simple\n",
    "\n",
    "\n",
    "* 环境依赖\n",
    "\n",
    "    Python的版本要求 3.7+\n",
    "  \n",
    "</font>"
   ]
  },
  {
   "cell_type": "code",
   "execution_count": 36,
   "metadata": {
    "collapsed": false
   },
   "outputs": [
    {
     "name": "stdout",
     "output_type": "stream",
     "text": [
      "Looking in indexes: https://pypi.tuna.tsinghua.edu.cn/simple\n",
      "Requirement already satisfied: pip in ./.data/webide/pip/lib/python3.7/site-packages (22.0.4)\n",
      "Requirement already satisfied: paddlenlp in /opt/conda/envs/python35-paddle120-env/lib/python3.7/site-packages (2.2.4)\n",
      "Requirement already satisfied: seqeval in /opt/conda/envs/python35-paddle120-env/lib/python3.7/site-packages (from paddlenlp) (1.2.2)\n",
      "Requirement already satisfied: colorama in /opt/conda/envs/python35-paddle120-env/lib/python3.7/site-packages (from paddlenlp) (0.4.4)\n",
      "Requirement already satisfied: multiprocess in /opt/conda/envs/python35-paddle120-env/lib/python3.7/site-packages (from paddlenlp) (0.70.11.1)\n",
      "Requirement already satisfied: h5py in /opt/conda/envs/python35-paddle120-env/lib/python3.7/site-packages (from paddlenlp) (2.9.0)\n",
      "Requirement already satisfied: colorlog in /opt/conda/envs/python35-paddle120-env/lib/python3.7/site-packages (from paddlenlp) (4.1.0)\n",
      "Requirement already satisfied: jieba in /opt/conda/envs/python35-paddle120-env/lib/python3.7/site-packages (from paddlenlp) (0.42.1)\n",
      "Requirement already satisfied: six in /opt/conda/envs/python35-paddle120-env/lib/python3.7/site-packages (from h5py->paddlenlp) (1.16.0)\n",
      "Requirement already satisfied: numpy>=1.7 in /opt/conda/envs/python35-paddle120-env/lib/python3.7/site-packages (from h5py->paddlenlp) (1.19.5)\n",
      "Requirement already satisfied: dill>=0.3.3 in /opt/conda/envs/python35-paddle120-env/lib/python3.7/site-packages (from multiprocess->paddlenlp) (0.3.3)\n",
      "Requirement already satisfied: scikit-learn>=0.21.3 in /opt/conda/envs/python35-paddle120-env/lib/python3.7/site-packages (from seqeval->paddlenlp) (0.24.2)\n",
      "Requirement already satisfied: joblib>=0.11 in /opt/conda/envs/python35-paddle120-env/lib/python3.7/site-packages (from scikit-learn>=0.21.3->seqeval->paddlenlp) (0.14.1)\n",
      "Requirement already satisfied: threadpoolctl>=2.0.0 in /opt/conda/envs/python35-paddle120-env/lib/python3.7/site-packages (from scikit-learn>=0.21.3->seqeval->paddlenlp) (2.1.0)\n",
      "Requirement already satisfied: scipy>=0.19.1 in /opt/conda/envs/python35-paddle120-env/lib/python3.7/site-packages (from scikit-learn>=0.21.3->seqeval->paddlenlp) (1.6.3)\n"
     ]
    }
   ],
   "source": [
    "# 需要的paddlenlp升级\r\n",
    "!pip install --upgrade pip --user\r\n",
    "!pip install --upgrade paddlenlp -i https://pypi.org/simple\r\n"
   ]
  },
  {
   "cell_type": "code",
   "execution_count": 37,
   "metadata": {
    "collapsed": false
   },
   "outputs": [],
   "source": [
    "#分词处理\r\n",
    "from paddlenlp.datasets import load_dataset\r\n",
    "import pandas as pd\r\n",
    "import jieba\r\n",
    "\r\n",
    "def read(data_path):\r\n",
    "    data_ori = pd.read_csv(data_path, names=['first','second'], header=None,sep='\\t').astype(str)\r\n",
    "    temp = {}\r\n",
    "    for i in range(len(data_ori)):\r\n",
    "        temp_data_0  = jieba.lcut(data_ori.iloc[i,0]) # 0 是 逗\r\n",
    "        temp_data_1  = jieba.lcut(data_ori.iloc[i,1]) # 1 是 捧\r\n",
    "        yield {'first': '\\x02'.join(temp_data_0), 'second': '\\x02'.join(temp_data_1)}"
   ]
  },
  {
   "cell_type": "code",
   "execution_count": 38,
   "metadata": {
    "collapsed": false
   },
   "outputs": [],
   "source": [
    "# data_path为read()方法的参数\r\n",
    "train_ds = load_dataset(read, data_path='work/train_file.txt',lazy=False)"
   ]
  },
  {
   "cell_type": "code",
   "execution_count": 39,
   "metadata": {
    "collapsed": false
   },
   "outputs": [
    {
     "name": "stdout",
     "output_type": "stream",
     "text": [
      "{'first': '\\ufeff\\x02“\\x02信仰\\x02坚定\\x02、\\x02无限忠诚\\x02”\\x02的\\x02政治\\x02品格', 'second': '“\\x02立党为公\\x02、\\x02执政为民\\x02”\\x02的\\x02为政\\x02守则\\x02，\\x02“\\x02鞠躬尽瘁\\x02、\\x02死而后已\\x02”\\x02的\\x02献身精神\\x02，\\x02“\\x02两袖清风\\x02、\\x02清正廉洁\\x02”\\x02的\\x02高尚情操\\x02。'}\n",
      "\n",
      "{'first': '遇到\\x02急难\\x02繁重\\x02的\\x02事情\\x02能\\x02担起来', 'second': '遇到\\x02千头万绪\\x02的\\x02事情\\x02能理\\x02清楚\\x02，\\x02遇到\\x02新\\x02情况\\x02新\\x02问题\\x02能\\x02有\\x02效应\\x02对\\x02。'}\n",
      "\n"
     ]
    }
   ],
   "source": [
    "for idx in range(2):\r\n",
    "    print(train_ds[idx])\r\n",
    "    print()"
   ]
  },
  {
   "cell_type": "code",
   "execution_count": 40,
   "metadata": {
    "collapsed": false
   },
   "outputs": [
    {
     "name": "stdout",
     "output_type": "stream",
     "text": [
      "        first                              second\n",
      "count    1463                                1462\n",
      "unique   1366                                1395\n",
      "top     “服务牌”  “逢山开路、遇水搭桥”的攻坚精神，“撸起袖子、扑下身子”的实干态度。\n",
      "freq        4                                   3\n"
     ]
    },
    {
     "data": {
      "text/html": [
       "<div>\n",
       "<style scoped>\n",
       "    .dataframe tbody tr th:only-of-type {\n",
       "        vertical-align: middle;\n",
       "    }\n",
       "\n",
       "    .dataframe tbody tr th {\n",
       "        vertical-align: top;\n",
       "    }\n",
       "\n",
       "    .dataframe thead th {\n",
       "        text-align: right;\n",
       "    }\n",
       "</style>\n",
       "<table border=\"1\" class=\"dataframe\">\n",
       "  <thead>\n",
       "    <tr style=\"text-align: right;\">\n",
       "      <th></th>\n",
       "      <th>first</th>\n",
       "      <th>second</th>\n",
       "    </tr>\n",
       "  </thead>\n",
       "  <tbody>\n",
       "    <tr>\n",
       "      <th>1</th>\n",
       "      <td>﻿“信仰坚定、无限忠诚”的政治品格</td>\n",
       "      <td>“立党为公、执政为民”的为政守则，“鞠躬尽瘁、死而后已”的献身精神，“两袖清风、清正廉洁”的...</td>\n",
       "    </tr>\n",
       "    <tr>\n",
       "      <th>2</th>\n",
       "      <td>遇到急难繁重的事情能担起来</td>\n",
       "      <td>遇到千头万绪的事情能理清楚，遇到新情况新问题能有效应对。</td>\n",
       "    </tr>\n",
       "    <tr>\n",
       "      <th>3</th>\n",
       "      <td>复杂局面前领导驾驭的能力</td>\n",
       "      <td>风险挑战前权衡决策的能力，发展机遇前当机立断的能力。</td>\n",
       "    </tr>\n",
       "    <tr>\n",
       "      <th>4</th>\n",
       "      <td>敢于啃“硬骨头”斗争意识</td>\n",
       "      <td>善于“涉险滩”斗争本领、勇于“闯难关”斗争魄力。</td>\n",
       "    </tr>\n",
       "    <tr>\n",
       "      <th>5</th>\n",
       "      <td>以平衡的心态对待得失</td>\n",
       "      <td>以豁达的胸怀看待名利，以奉献的精神服务社会。</td>\n",
       "    </tr>\n",
       "  </tbody>\n",
       "</table>\n",
       "</div>"
      ],
      "text/plain": [
       "               first                                             second\n",
       "1  ﻿“信仰坚定、无限忠诚”的政治品格  “立党为公、执政为民”的为政守则，“鞠躬尽瘁、死而后已”的献身精神，“两袖清风、清正廉洁”的...\n",
       "2      遇到急难繁重的事情能担起来                       遇到千头万绪的事情能理清楚，遇到新情况新问题能有效应对。\n",
       "3       复杂局面前领导驾驭的能力                         风险挑战前权衡决策的能力，发展机遇前当机立断的能力。\n",
       "4       敢于啃“硬骨头”斗争意识                           善于“涉险滩”斗争本领、勇于“闯难关”斗争魄力。\n",
       "5         以平衡的心态对待得失                             以豁达的胸怀看待名利，以奉献的精神服务社会。"
      ]
     },
     "execution_count": 40,
     "metadata": {},
     "output_type": "execute_result"
    }
   ],
   "source": [
    "# 查看前五条数据集\r\n",
    "data_ori = pd.read_csv('work/train_file.txt', names=['first','second'], header=None,sep='\\t')\r\n",
    "print(data_ori.describe() )\r\n",
    "data_ori.head()"
   ]
  },
  {
   "cell_type": "code",
   "execution_count": 41,
   "metadata": {
    "collapsed": false
   },
   "outputs": [
    {
     "data": {
      "image/png": "[encoded data removed]",
      "text/plain": [
       "<Figure size 360x360 with 1 Axes>"
      ]
     },
     "metadata": {},
     "output_type": "display_data"
    }
   ],
   "source": [
    "# 查看数据的长度分布，修改输入的最大长度\r\n",
    "%matplotlib inline\r\n",
    "%config InlineBackend.figure_format = 'retina'\r\n",
    "len_list = []\r\n",
    "for i in range(len(data_ori)):\r\n",
    "    temp_data  = data_ori.iloc[i,0] # 0 是 逗 1 是捧\r\n",
    "    len_list.append(len(temp_data))\r\n",
    "        \r\n",
    "import seaborn as sns\r\n",
    "import matplotlib.pyplot as plt\r\n",
    "\r\n",
    "plt.figure(figsize=(5,5))\r\n",
    "sns.distplot(len_list)\r\n",
    "plt.show()\r\n"
   ]
  },
  {
   "cell_type": "markdown",
   "metadata": {
    "collapsed": false
   },
   "source": [
    "## 📖3.模型实现及训练"
   ]
  },
  {
   "cell_type": "code",
   "execution_count": 42,
   "metadata": {
    "collapsed": false
   },
   "outputs": [
    {
     "name": "stderr",
     "output_type": "stream",
     "text": [
      "[2022-03-16 16:12:55,815] [    INFO] - Already cached /home/aistudio/.paddlenlp/models/unimo-text-1.0/unimo-text-1.0-vocab.txt\n"
     ]
    }
   ],
   "source": [
    "import paddlenlp\r\n",
    "\r\n",
    "# 设置模型名称\r\n",
    "MODEL_NAME = 'unimo-text-1.0'\r\n",
    "tokenizer = paddlenlp.transformers.UNIMOTokenizer.from_pretrained(MODEL_NAME)"
   ]
  },
  {
   "cell_type": "code",
   "execution_count": 43,
   "metadata": {
    "collapsed": false
   },
   "outputs": [
    {
     "data": {
      "text/plain": [
       "<paddlenlp.datasets.dataset.MapDataset at 0x7f3eba589c10>"
      ]
     },
     "execution_count": 43,
     "metadata": {},
     "output_type": "execute_result"
    }
   ],
   "source": [
    "from functools import partial\r\n",
    "from utils import convert_example\r\n",
    "\r\n",
    "train_trans_func = partial(\r\n",
    "    convert_example,\r\n",
    "    tokenizer=tokenizer,\r\n",
    "    mode='train')\r\n",
    "\r\n",
    "train_ds.map(train_trans_func, lazy=False, num_workers=4)"
   ]
  },
  {
   "cell_type": "code",
   "execution_count": 44,
   "metadata": {
    "collapsed": false
   },
   "outputs": [
    {
     "name": "stdout",
     "output_type": "stream",
     "text": [
      "[1, 825, 45, 978, 526, 1115, 118, 5, 104, 182, 52, 675, 200, 61, 2, 1, 825, 45, 608, 306, 211, 1659, 5, 104, 182, 52, 38, 334, 1302, 4, 825, 45, 102, 182, 617, 102, 358, 281, 52, 9, 344, 149, 51, 12043, 3]\n",
      "[0, 0, 0, 0, 0, 0, 0, 0, 0, 0, 0, 0, 0, 0, 0, 1, 1, 1, 1, 1, 1, 1, 1, 1, 1, 1, 1, 1, 1, 1, 1, 1, 1, 1, 1, 1, 1, 1, 1, 1, 1, 1, 1, 1, 1]\n",
      "[0, 1, 2, 3, 4, 5, 6, 7, 8, 9, 10, 11, 12, 13, 14, 0, 1, 2, 3, 4, 5, 6, 7, 8, 9, 10, 11, 12, 13, 14, 15, 16, 17, 18, 19, 20, 21, 22, 23, 24, 25, 26, 27, 28, 29]\n",
      "[15, 16, 17, 18, 19, 20, 21, 22, 23, 24, 25, 26, 27, 28, 29, 30, 31, 32, 33, 34, 35, 36, 37, 38, 39, 40, 41, 42, 43]\n",
      "[825, 45, 608, 306, 211, 1659, 5, 104, 182, 52, 38, 334, 1302, 4, 825, 45, 102, 182, 617, 102, 358, 281, 52, 9, 344, 149, 51, 12043, 3]\n",
      "\n"
     ]
    }
   ],
   "source": [
    "idx = 1 # 查看输出\r\n",
    "print(train_ds[idx]['input_ids'])\r\n",
    "print(train_ds[idx]['token_type_ids'])\r\n",
    "print(train_ds[idx]['position_ids'])\r\n",
    "print(train_ds[idx]['masked_positions'])\r\n",
    "print(train_ds[idx]['labels'])\r\n",
    "print()"
   ]
  },
  {
   "cell_type": "code",
   "execution_count": 45,
   "metadata": {
    "collapsed": false
   },
   "outputs": [],
   "source": [
    "import paddle\r\n",
    "from utils import batchify_fn\r\n",
    "\r\n",
    "batch_size = 32\r\n",
    "\r\n",
    "# 定义BatchSampler\r\n",
    "train_batch_sampler = paddle.io.DistributedBatchSampler(\r\n",
    "        train_ds, batch_size=batch_size, shuffle=True)\r\n",
    "\r\n",
    "# 定义batchify_fn\r\n",
    "train_collate_fn = partial(batchify_fn, pad_val=0, mode='train')\r\n",
    "\r\n",
    "# 构造DataLoader\r\n",
    "train_data_loader = paddle.io.DataLoader(\r\n",
    "    dataset=train_ds,\r\n",
    "    batch_sampler=train_batch_sampler,\r\n",
    "    collate_fn=train_collate_fn,\r\n",
    "    return_list=True)"
   ]
  },
  {
   "cell_type": "code",
   "execution_count": 46,
   "metadata": {
    "collapsed": false
   },
   "outputs": [
    {
     "name": "stderr",
     "output_type": "stream",
     "text": [
      "[2022-03-16 16:12:56,998] [    INFO] - Already cached /home/aistudio/.paddlenlp/models/unimo-text-1.0/unimo-text-1.0.pdparams\n"
     ]
    }
   ],
   "source": [
    "from paddlenlp.transformers import UNIMOLMHeadModel\r\n",
    "model = UNIMOLMHeadModel.from_pretrained(MODEL_NAME)"
   ]
  },
  {
   "cell_type": "code",
   "execution_count": 47,
   "metadata": {
    "collapsed": false
   },
   "outputs": [],
   "source": [
    "# 训练过程中的最大学习率\r\n",
    "learning_rate = 1e-4 \r\n",
    "\r\n",
    "# 训练轮次\r\n",
    "epochs = 20\r\n",
    "\r\n",
    "# 学习率预热比例\r\n",
    "warmup_proportion = 0.02\r\n",
    "\r\n",
    "# 权重衰减系数，类似模型正则项策略，避免模型过拟合\r\n",
    "weight_decay = 0.01\r\n",
    "\r\n",
    "num_training_steps = len(train_data_loader) * epochs\r\n",
    "\r\n",
    "# 学习率衰减策略\r\n",
    "lr_scheduler = paddlenlp.transformers.LinearDecayWithWarmup(learning_rate, num_training_steps, warmup_proportion)\r\n",
    "\r\n",
    "decay_params = [\r\n",
    "    p.name for n, p in model.named_parameters()\r\n",
    "    if not any(nd in n for nd in [\"bias\", \"norm\"])\r\n",
    "]\r\n",
    "optimizer = paddle.optimizer.AdamW(\r\n",
    "    learning_rate=lr_scheduler,\r\n",
    "    parameters=model.parameters(),\r\n",
    "    weight_decay=weight_decay,\r\n",
    "    apply_decay_param_fun=lambda x: x in decay_params)"
   ]
  },
  {
   "cell_type": "code",
   "execution_count": 48,
   "metadata": {
    "collapsed": false
   },
   "outputs": [
    {
     "name": "stderr",
     "output_type": "stream",
     "text": [
      "epoch:1: 100%|██████████| 46/46 [00:06<00:00,  7.36it/s]\n"
     ]
    },
    {
     "name": "stdout",
     "output_type": "stream",
     "text": [
      " epoch: 1, ppl: 219.9372, loss: 5.39334\n"
     ]
    },
    {
     "name": "stderr",
     "output_type": "stream",
     "text": [
      "epoch:2:   0%|          | 0/46 [00:00<?, ?it/s]epoch:2: 100%|██████████| 46/46 [00:07<00:00,  6.77it/s]\n"
     ]
    },
    {
     "name": "stdout",
     "output_type": "stream",
     "text": [
      " epoch: 2, ppl: 95.7261, loss: 4.56149\n"
     ]
    },
    {
     "name": "stderr",
     "output_type": "stream",
     "text": [
      "epoch:3: 100%|██████████| 46/46 [00:07<00:00,  6.15it/s]\n"
     ]
    },
    {
     "name": "stdout",
     "output_type": "stream",
     "text": [
      " epoch: 3, ppl: 69.8074, loss: 4.24574\n"
     ]
    },
    {
     "name": "stderr",
     "output_type": "stream",
     "text": [
      "epoch:4: 100%|██████████| 46/46 [00:07<00:00,  6.42it/s]\n"
     ]
    },
    {
     "name": "stdout",
     "output_type": "stream",
     "text": [
      " epoch: 4, ppl: 35.5140, loss: 3.56993\n"
     ]
    },
    {
     "name": "stderr",
     "output_type": "stream",
     "text": [
      "epoch:5:   2%|▏         | 1/46 [00:00<00:05,  8.38it/s]epoch:5: 100%|██████████| 46/46 [00:07<00:00,  7.24it/s]\n"
     ]
    },
    {
     "name": "stdout",
     "output_type": "stream",
     "text": [
      " epoch: 5, ppl: 30.0104, loss: 3.40154\n"
     ]
    },
    {
     "name": "stderr",
     "output_type": "stream",
     "text": [
      "epoch:6:   0%|          | 0/46 [00:00<?, ?it/s]epoch:6: 100%|██████████| 46/46 [00:07<00:00,  7.37it/s]\n"
     ]
    },
    {
     "name": "stdout",
     "output_type": "stream",
     "text": [
      " epoch: 6, ppl: 14.2624, loss: 2.65762\n"
     ]
    },
    {
     "name": "stderr",
     "output_type": "stream",
     "text": [
      "epoch:7:   2%|▏         | 1/46 [00:00<00:06,  7.20it/s]epoch:7: 100%|██████████| 46/46 [00:07<00:00,  6.49it/s]\n"
     ]
    },
    {
     "name": "stdout",
     "output_type": "stream",
     "text": [
      " epoch: 7, ppl: 14.7331, loss: 2.69010\n"
     ]
    },
    {
     "name": "stderr",
     "output_type": "stream",
     "text": [
      "epoch:8:   2%|▏         | 1/46 [00:00<00:04,  9.10it/s]epoch:8: 100%|██████████| 46/46 [00:07<00:00,  6.13it/s]\n"
     ]
    },
    {
     "name": "stdout",
     "output_type": "stream",
     "text": [
      " epoch: 8, ppl: 15.3445, loss: 2.73075\n"
     ]
    },
    {
     "name": "stderr",
     "output_type": "stream",
     "text": [
      "epoch:9:   2%|▏         | 1/46 [00:00<00:05,  8.77it/s]epoch:9: 100%|██████████| 46/46 [00:07<00:00,  5.26it/s]\n"
     ]
    },
    {
     "name": "stdout",
     "output_type": "stream",
     "text": [
      " epoch: 9, ppl: 14.2762, loss: 2.65859\n"
     ]
    },
    {
     "name": "stderr",
     "output_type": "stream",
     "text": [
      "epoch:10:   2%|▏         | 1/46 [00:00<00:06,  6.85it/s]epoch:10: 100%|██████████| 46/46 [00:07<00:00,  7.18it/s]\n"
     ]
    },
    {
     "name": "stdout",
     "output_type": "stream",
     "text": [
      " epoch: 10, ppl: 10.7235, loss: 2.37244\n"
     ]
    },
    {
     "name": "stderr",
     "output_type": "stream",
     "text": [
      "epoch:11:   0%|          | 0/46 [00:00<?, ?it/s]epoch:11: 100%|██████████| 46/46 [00:07<00:00,  6.07it/s]\n"
     ]
    },
    {
     "name": "stdout",
     "output_type": "stream",
     "text": [
      " epoch: 11, ppl: 8.5095, loss: 2.14118\n"
     ]
    },
    {
     "name": "stderr",
     "output_type": "stream",
     "text": [
      "epoch:12:   2%|▏         | 1/46 [00:00<00:06,  6.46it/s]epoch:12: 100%|██████████| 46/46 [00:07<00:00,  6.51it/s]\n"
     ]
    },
    {
     "name": "stdout",
     "output_type": "stream",
     "text": [
      " epoch: 12, ppl: 8.9229, loss: 2.18862\n"
     ]
    },
    {
     "name": "stderr",
     "output_type": "stream",
     "text": [
      "epoch:13:   2%|▏         | 1/46 [00:00<00:05,  8.94it/s]epoch:13: 100%|██████████| 46/46 [00:07<00:00,  6.90it/s]\n"
     ]
    },
    {
     "name": "stdout",
     "output_type": "stream",
     "text": [
      " epoch: 13, ppl: 7.8944, loss: 2.06615\n"
     ]
    },
    {
     "name": "stderr",
     "output_type": "stream",
     "text": [
      "epoch:14:   0%|          | 0/46 [00:00<?, ?it/s]epoch:14: 100%|██████████| 46/46 [00:07<00:00,  6.10it/s]\n"
     ]
    },
    {
     "name": "stdout",
     "output_type": "stream",
     "text": [
      " epoch: 14, ppl: 5.9311, loss: 1.78021\n"
     ]
    },
    {
     "name": "stderr",
     "output_type": "stream",
     "text": [
      "epoch:15:   0%|          | 0/46 [00:00<?, ?it/s]epoch:15: 100%|██████████| 46/46 [00:07<00:00,  6.56it/s]\n"
     ]
    },
    {
     "name": "stdout",
     "output_type": "stream",
     "text": [
      " epoch: 15, ppl: 6.6890, loss: 1.90046\n"
     ]
    },
    {
     "name": "stderr",
     "output_type": "stream",
     "text": [
      "epoch:16:   0%|          | 0/46 [00:00<?, ?it/s]epoch:16: 100%|██████████| 46/46 [00:07<00:00,  8.02it/s]\n"
     ]
    },
    {
     "name": "stdout",
     "output_type": "stream",
     "text": [
      " epoch: 16, ppl: 6.0960, loss: 1.80764\n"
     ]
    },
    {
     "name": "stderr",
     "output_type": "stream",
     "text": [
      "epoch:17:   0%|          | 0/46 [00:00<?, ?it/s]epoch:17: 100%|██████████| 46/46 [00:07<00:00,  7.04it/s]\n"
     ]
    },
    {
     "name": "stdout",
     "output_type": "stream",
     "text": [
      " epoch: 17, ppl: 5.8053, loss: 1.75877\n"
     ]
    },
    {
     "name": "stderr",
     "output_type": "stream",
     "text": [
      "epoch:18:   2%|▏         | 1/46 [00:00<00:04,  9.81it/s]epoch:18: 100%|██████████| 46/46 [00:07<00:00,  6.41it/s]\n"
     ]
    },
    {
     "name": "stdout",
     "output_type": "stream",
     "text": [
      " epoch: 18, ppl: 5.8210, loss: 1.76148\n"
     ]
    },
    {
     "name": "stderr",
     "output_type": "stream",
     "text": [
      "epoch:19:   2%|▏         | 1/46 [00:00<00:05,  8.02it/s]epoch:19: 100%|██████████| 46/46 [00:07<00:00,  7.00it/s]\n"
     ]
    },
    {
     "name": "stdout",
     "output_type": "stream",
     "text": [
      " epoch: 19, ppl: 5.7747, loss: 1.75349\n"
     ]
    },
    {
     "name": "stderr",
     "output_type": "stream",
     "text": [
      "epoch:20:   4%|▍         | 2/46 [00:00<00:03, 11.18it/s]epoch:20: 100%|██████████| 46/46 [00:07<00:00,  7.02it/s]\n"
     ]
    },
    {
     "name": "stdout",
     "output_type": "stream",
     "text": [
      " epoch: 20, ppl: 5.7264, loss: 1.74509\n"
     ]
    }
   ],
   "source": [
    "from utils import evaluation\r\n",
    "import paddle.nn.functional as F\r\n",
    "from tqdm import tqdm\r\n",
    "for epoch in range(0, epochs):\r\n",
    "    for batch in tqdm(train_data_loader,desc='epoch:'+str(epoch+1)):\r\n",
    "        labels = batch[-1]\r\n",
    "        logits = model(*batch[:-1])\r\n",
    "        labels = paddle.nn.functional.one_hot(labels, num_classes=logits.shape[-1])\r\n",
    "        labels = paddle.nn.functional.label_smooth(labels)\r\n",
    "        loss = F.cross_entropy(logits, labels, soft_label=True)\r\n",
    "\r\n",
    "        loss.backward()\r\n",
    "        optimizer.step()\r\n",
    "        lr_scheduler.step()\r\n",
    "        optimizer.clear_grad()\r\n",
    "\r\n",
    "    ppl = paddle.exp(loss)\r\n",
    "    print(\" epoch: %d, ppl: %.4f, loss: %.5f\" % (epoch + 1, ppl, loss))\r\n"
   ]
  },
  {
   "cell_type": "code",
   "execution_count": 52,
   "metadata": {
    "collapsed": false
   },
   "outputs": [
    {
     "name": "stdout",
     "output_type": "stream",
     "text": [
      "==>Trained model saved in ./textgen.pdparams\n"
     ]
    }
   ],
   "source": [
    "paddle.save(model.state_dict(), './textgen.pdparams')\r\n",
    "print(\"==>Trained model saved in ./textgen.pdparams\")"
   ]
  },
  {
   "cell_type": "code",
   "execution_count": 9,
   "metadata": {
    "collapsed": false
   },
   "outputs": [
    {
     "name": "stderr",
     "output_type": "stream",
     "text": [
      "[2022-03-16 16:29:11,617] [    INFO] - Already cached /home/aistudio/.paddlenlp/models/unimo-text-1.0/unimo-text-1.0-vocab.txt\n",
      "[2022-03-16 16:29:12,148] [    INFO] - Already cached /home/aistudio/.paddlenlp/models/unimo-text-1.0/unimo-text-1.0.pdparams\n"
     ]
    }
   ],
   "source": [
    "#模型加载\r\n",
    "import paddle\r\n",
    "import paddlenlp\r\n",
    "\r\n",
    "# 设置模型名称\r\n",
    "MODEL_NAME = 'unimo-text-1.0'\r\n",
    "tokenizer = paddlenlp.transformers.UNIMOTokenizer.from_pretrained(MODEL_NAME)\r\n",
    "layer_state_dict = paddle.load(\"textgen.pdparams\")\r\n",
    "from paddlenlp.transformers import UNIMOLMHeadModel\r\n",
    "model = UNIMOLMHeadModel.from_pretrained(MODEL_NAME)\r\n",
    "model.set_state_dict(layer_state_dict)\r\n"
   ]
  },
  {
   "cell_type": "code",
   "execution_count": 5,
   "metadata": {
    "collapsed": false
   },
   "outputs": [],
   "source": [
    "from utils import post_process_sum\r\n",
    "\r\n",
    "num_return_sequences = 8 #\r\n",
    "inputs = '坚持不懈解决问题'\r\n",
    "\r\n",
    "def textGen(inputs):\r\n",
    "        inputs_ids = tokenizer.gen_encode(\r\n",
    "                inputs,\r\n",
    "                return_tensors=True,\r\n",
    "                add_start_token_for_decoding=True,\r\n",
    "                return_position_ids=True)\r\n",
    "\r\n",
    "# 调用生成api并指定解码策略为beam_search\r\n",
    "        outputs, scores = model.generate(**inputs_ids, decode_strategy='beam_search', num_beams=8,num_return_sequences=num_return_sequences)\r\n",
    "        # print(\"Result:\\n\" + 100 * '-')\r\n",
    "        # for i in range(num_return_sequences):\r\n",
    "        # print(i, '前言：：', inputs, '续写：：', ''.join(post_process_sum(outputs[i].numpy(), tokenizer)[1]))\r\n",
    "        return ''.join(post_process_sum(outputs[0].numpy(), tokenizer)[1])"
   ]
  },
  {
   "cell_type": "code",
   "execution_count": 10,
   "metadata": {
    "collapsed": false
   },
   "outputs": [
    {
     "name": "stdout",
     "output_type": "stream",
     "text": [
      "增强内生动力\n"
     ]
    }
   ],
   "source": [
    "pred_text=textGen(\"坚持不懈改革\")\r\n",
    "print(pred_text)"
   ]
  },
  {
   "cell_type": "code",
   "execution_count": 51,
   "metadata": {
    "collapsed": false
   },
   "outputs": [
    {
     "name": "stdout",
     "output_type": "stream",
     "text": [
      "第一句：办事要依法依规,第二句：说话要真实严谨，从政要廉洁自律，举止要大方端正。,生成句:政策要有效\n",
      "第一句：处变不惊的定力,第二句：勇于开拓的魄力，攻坚克难的能力，不懈奋斗的耐力。,生成句:举危不安的毅力，攻坚克难的韧劲。\n",
      "第一句：等不起的紧迫感,第二句：慢不得的危机感，坐不住的责任感。,生成句:攀攀的压力感，工作的责任感。\n",
      "第一句：敢为人先的闯劲,第二句：滚石上山的拼劲，久久为功的韧劲。,生成句:敢为人先的锐气，敢为人先的闯劲。\n",
      "第一句：勇于克难攻坚,第二句：敢于破旧立新，善于推陈出新。,生成句:敢于攻坚克难，勇于攻坚克难。\n",
      "第一句：政治上讲忠诚,第二句：组织上讲服从，行动上讲纪律。,生成句:政治上要强烈，政治上要真实。\n",
      "第一句：总揽不包揽,第二句：分工不分家，放手不撒手。,生成句:总揽不揽揽，不顾此失。\n",
      "第一句：扛得了重活,第二句：打得了硬仗，经得住磨难。,生成句:打得了硬仗，攻得下山头。\n",
      "第一句：最担心的是“四平八稳”,第二句：最希望的是“求新求变”，最可喜的是“出新出彩”，,生成句:最主要要的是“平平安”。\n",
      "第一句：奋斗是最好的“强心剂”,第二句：实干是最好的“定心丸”，担当是最好的“驱动器”。,生成句:奋斗是最美的“助推器”。\n",
      "第一句：有信仰的人最幸福,第二句：有情怀的人最富有，有追求的人最充实。,生成句:有忠诚的人姻姻姻，善于奉献的人最美。\n",
      "第一句：最为充实的是奋斗,第二句：最难忘却的是奋斗，最感欣慰的是奋斗。,生成句:最为宝贵的是精神。\n",
      "第一句：最是目标激励人,第二句：最是愿景感召人，最是感情凝聚人。,生成句:最后一个目标鼓舞奋斗。\n",
      "第一句：打造“最优环境”,第二句：提供“最佳服务”，引来“最好项目”。,生成句:营造“最优环境”。\n",
      "第一句：群众最需要,第二句：问题最突出，情况最复杂。,生成句:群众最稀要，群众最困难。\n",
      "第一句：下最大决心,第二句：树最强信心，立最高目标。,生成句:最拼的劲头，最拼的劲头。\n",
      "第一句：政企之间的“联络员”,第二句：政策解读的“宣传员”，解决困难的“服务员”。,生成句:党委秘书是“助推器”。\n",
      "第一句：培土施肥的“园丁”,第二句：共同成长的“合伙人”，贴心服务的“店小二”。,生成句:培育一流的“政策”。\n",
      "第一句：手续再精简,第二句：审批再集中，权力再下放，服务再提速。,生成句:手续续多，手续再多，手续多一些。\n",
      "第一句：先进的理念思路,第二句：务实的工作作风，超前的服务意识。,生成句:成功的实践举措，创新的举措。\n",
      "第一句：解决一个难题,第二句：形成一套机制，畅通一个流程。,生成句:解决一个问题，解决一个问题。\n",
      "第一句：工作争创一流,第二句：个人力争上游，行业百舸争流。,生成句:工作争先进位。\n",
      "第一句：简除烦苛,第二句：简化程序，简便操作。,生成句:繁帙缛缛，繁重繁重。\n",
      "第一句：高位定标,第二句：勤于对标，勇于夺标。,生成句:高质量招商进度\n",
      "第一句：懂得团结的人最幸福,第二句：不懂团结的人最痛苦。,生成句:懂解解决的问题最好。\n",
      "第一句：团结是大道理,第二句：不团结就没道理。,生成句:发展是根本，团结是根本。\n",
      "第一句：书记处处不放心,第二句：委员人人不尽心。,生成句:委员处处处担心，事事由委员办妥。\n",
      "第一句：不以能人代替组织,第二句：要靠组织用好能人。,生成句:不以专业代替主体。\n",
      "第一句：班子决策“三防止”：防止淡化集体领导观念,第二句：该开会讨论的不讨论，搞“个人决策”；防止凭老经验、老办法办事，搞“经验决策”；防止不经充分论证就轻率拍板，搞“随意决策”。,生成句:避避出现“一厘米”问题。\n",
      "第一句：会前沟通不定“调子”,第二句：会上讨论善引“路子”，意见不同不伤“面子”，观点奇异不当“乐子”，矛盾突出会解“扣子”，会终统一慎拍“板子”，办法不妥再想“法子”。,生成句:形成成效一体的“调整”\n",
      "第一句：实干挑起高质量发展的千钧重担,第二句：扛起建设先行区的时代责任。,生成句:解决突出问题\n",
      "第一句：蓝图已经绘就、方向已经明确、路径已经清晰,第二句：关键就在于瞄准方向、真抓实干。,生成句:指向已经明确、目标指引明确。\n",
      "第一句：无私无畏、敢为人先的勇气和胆识,第二句：打破惯性思维模式，冲破陈旧观念束缚，以创新的思路、创新的理念、创新的举措，推动高质量发展实现新突破。,生成句:知难而上、开拓进取的开拓精神，居安思危、\n",
      "第一句：建立容错体制机制,第二句：让实干者无顾虑，为实干者开绿灯，为实干者兜住底。,生成句:健全健全长效机制。\n",
      "第一句：打造“X红”,第二句：思想是行动先导，党建是生产保障。,生成句:唱响为民初心\n",
      "第一句：发力“X绿”,第二句：打铁靠自身硬，发展是硬道理,生成句:筑牢生态系统\n",
      "第一句：“绿色”培训,第二句：强化党代表组织纪律,生成句:提升“绿色”技能\n",
      "第一句：“红色”培训,第二句：锤炼党代表党性修养,生成句:夯实思想基础\n",
      "第一句：白色,第二句：那是勇担使命、阔步前行的满满信心。,生成句:那是矢志不渝、甘于奉献的坚定恒心\n",
      "第一句：“生态茶”,第二句：守护一片“绿叶子”,生成句:培育一片“金叶子”\n",
      "第一句：忠诚、坚定信仰,第二句：擦亮政治“底色”,生成句:担当实干、担当实干，勇于争先、敢于担当，\n",
      "第一句：务实、真抓实干,第二句：彰显担当“本色”,生成句:敢于担当、敢闯，善于干、实干，善于奉献、\n",
      "第一句：劝君立下更新愿,第二句：浪子回头有新天”的胸襟打好干部监管的“红牌”,生成句:劝劝君君出台实招，进一步深化改革\n",
      "第一句：休羡井梧能待凤,第二句：凌霜坚守岁寒心”的坚守打好干部监管的“绿牌”,生成句:不要以锦锦栖栖。\n",
      "第一句：“蓝主色”,第二句：让干事创业这一片蓝更加灵动,生成句:让忠诚担当。\n",
      "第一句：伟大抗战精神,第二句：汲取“泰山崩于前而色不变，麋鹿兴于左而目不瞬”的信仰之力，绘就忠诚本色,生成句:汲取“些小吾曹州县吏，一枝一叶总关情”的\n",
      "第一句：助力科技创新的“刚需”,第二句：加快产业转型的“硬核”，优化营商环境的“标配”，促进对外开放的“招牌”。,生成句:推进产业融合的“动力”。\n",
      "第一句：稳中求进的压舱石,第二句：转型升级的发动机，区域竞争的胜负手，能力作风的试金石。,生成句:攻坚克难的推动器。\n",
      "第一句：把好治理“源头关”,第二句：织牢治理“管控网”，打造治理“共同体”。,生成句:打好“风险隐患”\n",
      "第一句：广大创客“首选地”,第二句：科技创新“强磁场”，经济发展“聚宝盆”。,生成句:企业家创业“聚地”。\n",
      "第一句：摆脱“惯性思维”,第二句：避免“重操旧业”，克服“路径信赖”。,生成句:避免“重操旧业”。\n",
      "第一句：事业需要“伯乐”,第二句：人才渴遇“伯乐”，时代呼唤“伯乐”。,生成句:职业需要“新人”。\n",
      "第一句：下好“一盘棋”,第二句：紧跟“一个调”，拧成“一股绳”。,生成句:紧跟“一个调”，拧成“一股绳”。\n",
      "第一句：甘做“栽树人”,第二句：甘当“铺路石”，甘为“孺子牛”。,生成句:甘当“有心人”。\n",
      "第一句：一往无前加快思想破冰,第二句：一刻不停推动争先创优，一竿到底狠抓工作落实。,生成句:一抓到底，一抓到底。\n",
      "第一句：每一项工作都出新出彩,第二句：每一项任务都落地落实，每一名干部都担当担责。,生成句:每一项举措都要有特点。\n",
      "第一句：转化到工作举措上,第二句：体现到精神状态上，落实到工作成效上。,生成句:在落实改革创新上下功夫\n",
      "第一句：把事干成是硬道理,第二句：完成目标是硬任务，争当先进是硬本领。,生成句:把能干成事是本事，干成是本事。\n",
      "第一句：增强政治定力,第二句：激发为民动力，提升办事能力。,生成句:增强本领能力\n",
      "第一句： “服务型”系统,第二句：“效能型”部门，“纪律型”铁军。,生成句:实现“人尽其才”\n",
      "第一句：思维有灵气,第二句：决策有底气，工作有锐气。,生成句:行动有力度。\n",
      "第一句：“快”的速度,第二句：“细”的功夫，“准”的精度。,生成句:“快”的速度，“快”的速度。\n",
      "第一句：载体,第二句：在实践动员上下功夫,生成句:打好宣传牌\n",
      "第一句：联动,第二句：在组织督导上下功夫,生成句:打好“成效牌”\n",
      "第一句：实”字上再下功夫,第二句：必须要改得更加精准，进一步解决突出问题,生成句:打好政策落地牌\n",
      "第一句：实”字上再下功夫,第二句：必须要做得更加到位，进一步发挥党组织和党员作用,生成句:必须要有一个决心\n",
      "第一句：常监管对象上下功夫,第二句：坚持把关键少数和绝大多数结合起来,生成句:突出突出问题问题\n",
      "第一句：常监管内容上下功夫,第二句：坚持把政治监管和工作监管结合起来,生成句:坚守廉洁底线\n",
      "第一句：划、早动手,第二句：在精心安排部署上下功夫,生成句:打好“基础牌”\n",
      "第一句：准、严要求,第二句：在精心把脉定位上下功夫,生成句:打好干部考察“成效牌”\n",
      "第一句：干部提神”功夫,第二句：服务走心到位换群众真心支持,生成句:举措措施更细实\n",
      "第一句：办事提速”功夫,第二句：解决问题反应快效率高,生成句:办事效率提升\n",
      "第一句：业训练上下功夫,第二句：强化干部综合本领,生成句:练好本领\n",
      "第一句：真实声音上下功夫,第二句：避免出现“谈不谈一个样”,生成句:才能抓到实效\n",
      "第一句：健全长效机制,第二句：在规范用权上下功夫,生成句:打好“专精牌”\n",
      "第一句：铁还需自身硬”要硬在政治上,第二句：在把好对党忠诚这个“方向盘”上下功夫,生成句:在铸牢思想根基上下功夫\n",
      "第一句：夫,第二句：就是整改措施要实在,生成句:就是开展批评活动\n",
      "第一句：选优”上下功夫,第二句：练好眼功,生成句:搭建发展平台\n",
      "第一句：以“狭路相逢勇者胜”的胆识抢抓机遇,第二句：以“越是艰险越向前”的斗志攻坚克难，以“功成必定有我”的担当真抓实干，以“不破楼兰终不还”的毅力锐意进取。,生成句:以“越是艰险越向前”的毅力攻坚克难，以“\n",
      "第一句：以青春之梦想标定青春之航向,第二句：把青春之奋斗融入青春之事业，用青春之担当谱写青春之华章。,生成句:以澎湃之力砥砺青春之风。\n",
      "第一句：以“为民”立场不懈奋斗,第二句：以“无我”精神拼搏奉献，以“实干”姿态笃定前行。,生成句:以“为民”为本领，以“为民”为荣。\n",
      "第一句：以群众的需求“下订单”,第二句：以群众的身份“走流程”，以群众的体验“评好差”。,生成句:以群众的体验“评差差”，以群众的体验“评\n",
      "第一句：以党的事业为追求,第二句：以党的纪律为约束，以党的作风为遵循。,生成句:以党的纪律为约束，以党的作风为遵循。\n",
      "第一句：以创新创造论英雄,第二句：以发展质量论英雄，以群众满意论英雄。,生成句:以产业发展为标杆，以产业融合是根本，以产\n",
      "第一句：以立法强保障,第二句：以执法提效能，以守法夯基础。,生成句:以制度强服务，以制度强保障。\n",
      "第一句：以产业比强弱,第二句：以项目论英雄，以招商见高低。,生成句:以项目比高下，以项目比高下。\n",
      "第一句：提醒党委委员落实“一岗双责”。每个单位都对党委委员落实“一岗双责”提出了要求,第二句：有的单位还明确了要做什么事、多长时间干一次。比较闹心的是，这些事儿还不一定是一个制度里写出来的，有党建的、有党风廉政建设的，细一点的还有什么联系点制度、“三会一课”制度，等等。于是，作者就自己做了个表，把每一名党委委员的“一岗双责”工作列了个清单，快到季度末就打个电话提醒一下。过程中形成的谈话提醒记录、党课课件、“三会一课”记录等支持性材料，可以留在领导所在的支部或是相应的职能部门，但是清单至少应该在秘书手里，这样上级来检查的时候心不慌。,生成句:提诫党委秘书不要担当“一等角”。\n",
      "第一句：督促职能部门执行党委决议。党委会纪要或者决议形成后,第二句：就进入督办程序了。但是，作者建议，就算有办公室（党委办）专人负责督办，党委秘书对一些领导关心、职工关注的重点工作还是要时时刻刻了解进度，提醒牵头部门及时请示汇报，需要再上会决策的及时安排。如果事情拖延了，领导生气是肯定的，耽误整体工作的责任就更大了。,生成句:必须在学习成果上下功夫\n",
      "第一句：与“扶智”“扶志”相融合,第二句：构建创业致富“先富带后富”实效载体,生成句:强化“脱贫”特色\n",
      "第一句：与教学实践相融合,第二句：搭建创业致富“东部带西部”交流平台,生成句:提升学学习能力\n",
      "第一句：统揽大局,第二句：将党建工作与中心工作深度融合,生成句:打好政策保障\n",
      "第一句：引领航向,第二句：将党建工作与政治教育深度融合,生成句:指向方向。\n",
      "第一句：融合业务,第二句：提升执行力,生成句:融入x域\n",
      "第一句：融合服务,第二句：提升战斗力,生成句:形成合力\n",
      "第一句：打造长江上游生态屏障相结合,第二句：提升生态修复能力,生成句:提升生态生态保障\n",
      "第一句：求进正风肃纪反腐,第二句：保持一体推进的震慑力,生成句:强化“反腐”工作\n",
      "第一句：第一产业,第二句：夯实产业融合发展基础,生成句:第三产业是支撑，第一产业是第一产业，第一\n",
      "第一句：农产品加工业,第二句：提升产业融合发展带动能力,生成句:加强基础设施建设。\n",
      "第一句：突出重点抓整治,第二句：下足功夫强管理，强化宣传造氛围，压实责任重提升，加强督查求实效。,生成句:突出突点抓整改。\n",
      "第一句：推动高质量发展,第二句：创造高品质生活，打造高颜值生态，实现高效能治理，推进高水平党建。,生成句:增强高质量发展的动力\n",
      "第一句：稳增长增信心,第二句：抓项目增后劲，调结构增动力，优环境增活力，保民生增品质。,生成句:增强幸福指数\n",
      "第一句：更加注重优化发展途径,第二句：更加注重丰富发展内涵，更加注重增强发展动力。,生成句:更加优化发展环境\n",
      "第一句：服务发展上再升级,第二句：业务水平上再突破，综合保障上再强化。,生成句:我们实现了产业融合\n",
      "第一句：总结成绩实事求是,第二句：部署工作系统全面，发展举措务实有力。,生成句:在提升能力上下足功夫\n",
      "第一句：指明了方向,第二句：擘画了蓝图，开出了良方。,生成句:指明了指向，指明了方向。\n",
      "第一句：经济压舱石,第二句：发展动力源，改革试验田。,生成句:改革是创新动力，开放是方向。\n",
      "第一句：没有过不去的“火焰山”,第二句：没有挑不动的“千斤担”，没有攻不下的“娄山关”。,生成句:没有攻不下的“娄山关”。\n",
      "第一句：入火海而不退缩,第二句：遇烟雾而不迷失，出淤泥而不沾染，临诱惑而不动摇。,生成句:不怕牺牲，不言弃。\n",
      "第一句：不打纪律“擦边球”,第二句：不对组织耍“小聪明”，不搞私下“小动作”。,生成句:不让“规矩框框”。\n",
      "第一句：整改不到位不放过,第二句：问题不解决不放过，群众不满意不放过。,生成句:整改不落实不推诿。\n",
      "第一句：发展热情不减,第二句：咬定目标不松，冲刺劲头不懈。,生成句:咬定目标不松，冲刺劲头不减。\n",
      "第一句：干劲不能减半,第二句：目标不能打折，任务不能缩水。,生成句:不能敷衍了。\n",
      "第一句：不等不靠,第二句：不推不搪，不拖不让。,生成句:不图虚名。\n",
      "第一句：不讲条件,第二句：不做选择，不踢皮球。,生成句:不怕困难，不怕困难。\n",
      "第一句：多从基层一线中“扫描”干部动态,第二句：多从乡音乡语中“复写”干部作为。,生成句:在基层一线“一线一抓”\n",
      "第一句：思想交流的“主战场”,第二句：锤炼党性的“大熔炉”，整顿作风的“练兵场”。,生成句:推进工作的“主阵地”。\n",
      "第一句：上门求教的“主动”,第二句：常来常往的“互动”，同频共振的“联动”。,生成句:解决问题的“主动者”。\n",
      "第一句：铁肩膀是压出来、磨出来的,第二句：硬本领是干出来、拼出来的。,生成句:铁肩膀是磨出来、、磨出来的。\n",
      "第一句：脑子里有任务,第二句：肩膀上有责任，胸膛里有激情。,生成句:手里就有一些。\n",
      "第一句：玉不琢不成器,第二句：事不琢不顺畅，人不磨不成长。,生成句:玉玉不能雕成。\n",
      "第一句：成长有顺逆,第二句：进步有快慢，发展有高低。,生成句:成长有规律。\n",
      "第一句：多维度发力,第二句：多方面锤炼，多途径提升。,生成句:多侧措施强化保障\n",
      "第一句：融合,第二句：为改革凝聚共识,生成句:形成互联网行业党建的特色\n",
      "第一句：融合,第二句：“1+1”要大于2,生成句:融入民族团结“三x服务”特色\n",
      "第一句：围绕“信息融合”,第二句：实现“智慧共享”,生成句:实现“数字化”\n",
      "第一句：学习与业务学习相融合,第二句：提升综合素质,生成句:提升学习成效\n",
      "第一句：认真统筹,第二句：促进“组织融合”,生成句:打好“整改牌”\n",
      "第一句：热情迎新,第二句：推动“思想融合”,生成句:大是担当，敢于担当。\n",
      "第一句：融合“新时代文明”理念,第二句：发挥志愿服务积极作用,生成句:融入“奋斗新时代”理念\n",
      "第一句：融合志愿服务资源,第二句：提升志愿服务水平,生成句:增强志愿服务力量\n",
      "第一句：业融合”,第二句：让脱贫有路子,生成句:激活高质量就业“催化剂”。\n",
      "第一句：扶融合”,第二句：让脱贫有动力,生成句:让脱贫有环境\n",
      "第一句：在学习中解放了思想,第二句：在学习中触及了灵魂，在学习中点燃了激情，在学习中凝聚了力量。,生成句:在冥思中中找悟悟悟。\n",
      "第一句：真学真信中坚定理想信念,第二句：细照笃行中不断修炼自我，知行合一中主动担当作为。,生成句:在求真践践中锤炼意志品格。\n",
      "第一句：用初心砥砺信仰,第二句：用理论坚定信念，用实践增强信心。,生成句:用敬业诠释担当，用忠诚诠释担当。\n",
      "第一句：坚定心中的信仰,第二句：挺起信念的脊梁，鼓起信心的风帆。,生成句:挺起信仰的脊梁，挺起信念的脊梁。\n",
      "第一句：“任务单”列出来,第二句：“课程表”排出来，“路线图”亮出来。,生成句:“任任务清单”。\n",
      "第一句：增加“要点传真”,第二句：设置“知识链接”，列出“延伸阅读”。,生成句:增加“政策导向”。\n",
      "第一句：思想“再充电”,第二句：精神“再补钙”，工作“再加油”。,生成句:行为“再加热”。\n",
      "第一句：头脑更清醒,第二句：思路更清晰，脚步更坚定。,生成句:思路更清晰，脚步更坚定。\n",
      "第一句：将党记在心,第二句：有血还要有肉，做区域争先的圆梦者,生成句:始终牢记于胸中。\n",
      "第一句：将责担在肩,第二句：有为还要有位，做改革创新的引领者,生成句:使命在肩。\n",
      "第一句：的先进性体现在责任上。只有全力履责,第二句： 才不负党员这一称号。,生成句:才能彰显党性担当\n",
      "第一句：的先进性体现在作为上。只有追求卓越,第二句： 才不负党员这一荣誉。,生成句:才能真正提升工作能力。\n",
      "第一句：历史,第二句：坚定全面从严治党的信心和决心,生成句:在辉煌时代，创造新中国\n",
      "第一句：形势,第二句：增强抓好国企党建工作的责任感和紧 迫感,生成句:环境优化\n",
      "第一句：发挥五大作用,第二句：形成大抓基层整体合力,生成句:发挥五个联动，发挥群众作用。\n",
      "第一句：学习贯彻落实XX精神,第二句：加强思想理论建设。,生成句:在学习宣传上下功夫\n",
      "第一句：焦“做”,第二句：达到知行合一。,生成句:打好“实效牌”\n",
      "第一句：出“常”,第二句：做到常抓不懈。,生成句:打好“监管牌”\n",
      "第一句：始终高举思想旗帜,第二句：始终站在时代高处，始终瞄准最高标准，始终保持高昂斗志，始终勇于攀登高峰。,生成句:永不懈怠，始终做到到底。\n",
      "第一句：对党忠诚的政治品质,第二句：一心为民的公仆情怀，真抓实干的进取精神，清正廉洁的职业操守。,生成句:对党是忠诚的品格，对党忠诚的品格。\n",
      "第一句：融于灵魂的血脉基因,第二句：心中坚守的精神高地，执着笃行的内在动力。,生成句:让灵魂融入骨骨之中，融入血脉之魂。\n",
      "第一句：朝气蓬勃的精神风貌,第二句：自强不息的意志品格，甘于奉献的思想境界。,生成句:蓬勃向上的朝气态度。\n",
      "第一句：信仰是志气之钙,第二句：情怀是志气之泉，自信是志气之柱。,生成句:信念是信心的源。\n",
      "第一句：“清”者,第二句：官之本，“慎”者，官之要，“勤”者，官之基。,生成句:“有”者，清正。\n",
      "第一句：忠诚为党分忧,第二句：忠心为国奉献，忠实为民代言。,生成句:忠心为国奉献，忠实为民代言。\n",
      "第一句：照亮前行之路,第二句：洗涤心灵之尘，激发奋进之力。,生成句:指明前行之方。\n",
      "第一句：再打破几副束缚更好发展的“锁脚镣”,第二句：再搬掉几块阻碍更快发展的“绊脚石”。,生成句:推动动能转换为优质发展的“催化剂”。\n",
      "第一句：把“路线图”变成“施工图”、“作战图”,第二句：把“任务书”变成“责任书”、“项目书”。,生成句:把“时间表”变成“里程表”。\n",
      "第一句：攻克一个又一个“娄山关”,第二句：抢占一座又一座“泸定桥”。,生成句:跨越一个个“娄山”，攻克一个个“娄山关”\n",
      "第一句：踩住了能耗双控的“刹车”,第二句：加大了转型发展的“油门”。,生成句:开好了经济运行“油门门”。\n",
      "第一句：私心杂念的“除尘器”,第二句：拒腐防变的“大堤坝”。,生成句:作为党员的“助力器”。\n",
      "第一句：找准问题的“病根子”,第二句：开好整改的“药方子”。,生成句:解决问题的“病根源”。\n",
      "第一句：培育“种子选手”,第二句：跻身“第一方阵”。,生成句:培养“政策人才”。\n",
      "第一句：掌握几把“刷子”,第二句：练好几门“硬功”。,生成句:练出一把“刷子”。\n",
      "第一句：对照“新考纲”,第二句：答好“新答卷”。,生成句:对照“新思路”，对照“新标准”。\n",
      "第一句：拆除“隔心墙”,第二句：架起“连心桥”。,生成句:拆除“篱笆墙”。\n",
      "第一句：突出方向引导,第二句：为创新“聚力”；破除制度藩篱，为创新“松绑”； 强化政策激励，为创新“赋能”。,生成句:突出方向方向，突出突出问题。\n",
      "第一句：冒着枪林弹雨,第二句：为人民浴血奋战；守护岁月静好，为人民无私奉献；支援地方建设，为人民勇挑重担；面对大灾大难，为人民挺身而出。,生成句:冒着硝烟硝烟的硝烟里，在硝烟里书写着英雄\n",
      "第一句：作为党性素质来锤炼,第二句：作为道德品行来坚持，作为生活习惯来践行。,生成句:作为党员干部的标杆，作为党员干部的标准是\n",
      "第一句：不为指标下滑而慌乱,第二句：不为形势复杂所干扰，不为困难增多所畏惧。,生成句:不为困难增加困难，不为短板增困难。\n",
      "第一句：不以事小而不为,第二句：不以事难而怕为，不以事杂而乱为。,生成句:不以小事而为，不以斤斤为小。\n",
      "第一句：处处以自律为本,第二句：时时以纪法为纲，事事以廉洁为重。,生成句:处处以自警自警。\n",
      "第一句：不为困所累,第二句：不为难所压，不为险所退。,生成句:不为浮躁所扰，不为物欲所累。\n",
      "第一句：为人民立德,第二句：为人民立功，为人民立言。,生成句:为人民奉献，为人民奉献。\n",
      "第一句：吹响干事创业“冲锋号”,第二句：按下攻坚克难“快进键”。,生成句:吹响干事创业“冲锋号”。\n",
      "第一句：坚定理想信念“定盘星”,第二句：提高思维能力“奠基石”。,生成句:增强为民服务的本领。\n",
      "第一句：把牢改革发展“方向盘”,第二句：下好逆势转型“先手棋”。,生成句:推进创新发展“动力源”。\n",
      "第一句：释放惠企政策“催化剂”,第二句：提升生产要素“保障力”。,生成句:企业困难“助推剂”。\n",
      "第一句：跳出“城河思维”,第二句：跨过“长江天堑”。,生成句:划清“篱笆笆”。\n",
      "第一句：抢抓政策“风口”,第二句：找准服务“切口”。,生成句:守住“脱贫攻坚”。\n",
      "第一句：善用“放大镜”,第二句：巧用“显微镜”。,生成句:善打“显微镜”。\n",
      "第一句：拧紧“思想阀”,第二句：掌好“实践舵”。,生成句:打好“智慧牌”。\n",
      "第一句：产业是人才引进的“蓄水池”,第二句：人才是产业发展的“加速器”。,生成句:项目是项目投资的“金钥匙”。\n",
      "第一句：拿出赶超进位的“撒手锏”,第二句：明确赶超进位的“时间表”。,生成句:攻坚难关夺隘的“金钥匙”。\n",
      "第一句：思想行动的“总开关”,第二句：人生航向的“定盘星”。,生成句:落实落实的“高度”。\n",
      "第一句：人才交流的“会客室”,第二句：科创成果的“展示厅”。,生成句:砥砺人才的“洽洽会”。\n",
      "第一句：创新没有“暂停键”,第二句：创新没有“休止符”。,生成句:绝不是“加速速度”。\n",
      "第一句：跑出发展“加速度”,第二句：锚定发展“增长极”。,生成句:迸发发展“新动力”。\n",
      "第一句：思想上有“主心骨”,第二句：行动上有“指南针”。,生成句:行动上是“防火墙”。\n",
      "第一句：打出惠企“组合拳”,第二句：吹响招商 “冲锋号”。,生成句:营造惠民“大环境”。\n",
      "第一句：经济发展之“果”,第二句：政治优势之“因”。,生成句:工业发展之“成果”，创新发展之“成”。\n",
      "第一句：吹响推动落实“第一哨”,第二句：跑好推动落实“第一棒”。,生成句:激发改革创新“动力源”。\n",
      "第一句：以劳动者的付出为理由,第二句：剥夺消费者打差评的权利并不可取；以消费者的合法权益为借口，漠视劳动者的申诉也不应该。,生成句:剥夺消费者打差评的权利。\n",
      "第一句：养宠物的一个“宠”字,第二句：让它们区别于普通的“物”，理应获得更多的善意与关爱；一个“养”字，让这个圈子更应远离急功近利，多些人间温情，成为见证社会文明程度的标尺。,生成句:让它们区别于普通的“物”，理应获得更多的\n",
      "第一句：“2020,第二句：‘鼠’实不易；2021，‘牛’转乾坤。”梦想不会自动成真，拼搏奋斗正当其时，牛年就要有一股子“牛劲”，就要使出“牛力”。学习牛的品格、发扬牛的精神，像牛一样耕耘、像牛一样奋发，每个人都“牛劲十足”，新的一年必定“牛气冲天”。,生成句:就不会迷失方向。\n",
      "第一句：人民子弟兵闻“汛”而动、迎难而上,第二句：保江河安澜、护群众安全。,生成句:闻鸡起舞、背水水”的英勇姿态\n",
      "第一句：那些潜藏于心的记忆,第二句：那些平时羞于表达的情感，那些本应承担的爱与责任，借由“李焕英”这个出口得以抒发，让这部从个体记忆出发的电影故事、看似直白的母爱主题，承载起更多的价值与意义。,生成句:那些平时羞于表达的情感，那些本应承担的爱\n",
      "第一句：精神如炬,第二句：信念如磐。一个国家、一个民族，在精神上有怎样的海拔，就能攀登怎样的高度。,生成句:信念如磐。\n",
      "第一句：他们是“崖畔的桂,第二句：雪中的梅”，是“诗词的女儿，风雅的先生”，他们有人“烹煮焦虑和苦涩，端出温暖和芬芳”，有人“矗立在死神和患者之间”，有人“以凡人之力，书写一段传奇”……,生成句:雪中的梅”，也是“诗词的女儿”。\n",
      "第一句：教育,第二句：无论是线上授课还是线下课堂，都是“慢事业”，既快不了，也不能快。,生成句:无论是线上授课还是线下课堂，都是“慢事业\n",
      "第一句：因为我们心里有一种爱,第二句：因为爱，我们奉献了自己宝贵的一生，因为奉献，我们得到了很多快乐。,生成句:因为爱，我们奉献了自己宝贵的一生，因为奉\n",
      "第一句：手机本为方便家校联系,第二句：现实中却成了一些孩子课上“摸鱼”、课下沉迷的“游戏机”“聊天器”，成了一些教师布置作业赋压家长的“省事器”。,生成句:学校安排安排安排安排。\n",
      "第一句：本应是照亮生活的“灯塔”,第二句：却变成时刻检验生活态度的炽光灯。,生成句:指引方向的“灯塔”。\n",
      "第一句：没错,第二句：中国人自古以来讲究食不厌精脍不厌细，饮食不仅是果腹充饥的生存必须，也是一屋两人、三餐四季的生活品味，更是五味调和、七窍爽畅的烹饪艺术。,生成句:就没有结果\n",
      "第一句：2020年是一个堪称“无价”的年份。时间的年轮上,第二句：刻印着白衣为甲、逆行出征的勇敢，隔空拥抱、大爱无言的温暖，决战决胜、拔除穷根的坚毅，深潜海底、九天揽月的豪迈……,生成句:正是因为认真真抓实、敢于“担当”，所有人\n",
      "第一句：如果说婴儿肥里令人艳羡的,第二句：是稚气未脱的童颜，那么幸福肥中令人欢喜的，就是你侬我侬的甜蜜。,生成句:不如说是婴儿成长的标志，那么么么么就应该\n",
      "第一句：复兴大潮是涓涓细流一点一滴汇成的,第二句：史诗成就是亿万人民一笔一画书写的。,生成句:复兴复兴是一个国家、一个民族的起点，复兴\n",
      "第一句：有人说,第二句：冒名顶替入学就如同偷了别人的人生，而且永远还不回去。错位的人生让人唏嘘，冒名顶替者漠视规则、突破道德法律底线更令人愤慨。,生成句:“只要我喝得快，纸吸管软化的速度就赶不上\n",
      "第一句：小小一颗车厘子,第二句：乘着扩大开放的暖流，搭着国内国际双循环相互促进的快车，不仅甜了中国老百姓的舌尖，也美了原产地居民的生活，更见证着中国超大规模市场的强大动能，成为国内国际双循环相互促进的鲜活例证。,生成句:我们撑起的拼命，我们必须扛起担当。\n",
      "第一句：正是一个个这样的“人”,第二句：书写了“志合者，不以山海为远”的伟大情感，成就了“干沙滩”变“金沙滩”的壮丽传奇，更让人一次次感叹“那些在荒芜土地里种出梦想的人，谱写了真正的英雄长歌”。,生成句:一个个“先进”的精神，一个个“先进”的人\n",
      "第一句：学以增智,第二句：学以立德，学以致用，一个人的本领不是天生的，只能通过学习和实践来获得。,生成句:学以致致，学以致用，学以致用。\n",
      "第一句：从个案来看,第二句：我们可以理解“花钱消灾”的选择、也可以理解“息事宁人”的解决，但从整个社会的治理实践、文明实践来说，讲理讲法、奉理守法应该成为更多人的选择，而不是向“闹”让步、为“横”折腰。,生成句:我们可以理解“群众”的问题，也可以理解“\n",
      "第一句：巴木玉布木的生活之变并非孤例,第二句：而是脱贫攻坚历史巨变的缩影。在她口中，缩短上学的路、打通外出的路，变化令人感慨，也在人们心中铺展出“路”的意象，进而呈现“春运母亲”的生活蝶变，折射广大贫困人口的脱贫轨迹。,生成句:而是脱贫攻坚历史巨变的缩影。\n",
      "第一句：口音、不同思维的人频频出镜,第二句：警民融洽却又“鸡同鸭讲”的沟通场景，加之谭警官自带的话唠属性，每每惹得观众捧腹大笑。,生成句:警民融洽却又“鸡同鸭讲”的沟通场景，加之\n",
      "第一句：人民子弟兵闻“汛”而动、迎难而上,第二句：保江河安澜、护群众安全。,生成句:打好“背水”牌\n",
      "第一句：为民服务没有终点,第二句：只有连续不断的新起点。,生成句:只有连续不断的新起点。\n",
      "第一句：岁月为证,第二句：奋斗不止。从白衣为甲、逆行出征的医务人员，到披星戴月、不辞劳苦的扶贫干部，从争分夺秒、日夜攻关的科研工作者，到风雨无阻、辛勤劳作的农民兄弟……,生成句:奋斗不止，奋斗不歇。\n",
      "第一句：把好言论和舆论的边界,第二句：守住道德和法律底线，以更多的敬畏心、敬仰心、敬重心来守望英雄及其英雄精神，才能真正捍卫好属于每个人的“光荣与梦想”。,生成句:守住道德和法律底线。\n",
      "第一句：一部中国史,第二句：就是一部中华民族同贫困作斗争的历史。脱贫摘帽不是终点，而是新生活、新奋斗的起点。,生成句:就是脱贫攻坚的历史。\n",
      "第一句：网红成也“眼球经济”,第二句：败也“眼球经济”。网红不再吸引眼球之日，就是重回“路人”之时。,生成句:败也“眼球经济”。\n",
      "第一句：“电影是现实的渐近线”。《第一次的离别》主题看似简单,第二句：但正如导演所说，在离别的母题之下，“开满了生活的枝枝蔓蔓”。,生成句:“寻找真实的方法”。\n",
      "第一句：让人们彻底远离各类垃圾和营销信息的侵扰,第二句：关键还要让制度长出牙齿，压实各方责任。,生成句:让行动得到实现。\n",
      "第一句：只争朝夕、奋发有为的奋斗姿态,第二句：逢山开道、遇水架桥的无畏气概，勇于变革、勇于创新的开创精神。,生成句:敢为人先的实干态度。\n",
      "第一句：强化“为党尽职、为民尽责”的使命感,第二句：强化“一日无为、三日难安”的紧迫感，强化“不进则退、慢进亦退”的危机感。,生成句:在真抓落实上下功夫\n",
      "第一句：抗洪抢险的“誓死不退”,第二句：阻击疫情的“最美逆行”，决战攻坚的“拼尽全力”。,生成句:“夺取”的“决不不战”，“不怕牺牲”的“\n",
      "第一句：敢闯一流的拼搏精神,第二句：敢挑重任的担当精神，敢为人先的首创精神。,生成句:敢闯敢试的精神状态。\n",
      "第一句：壮士断腕的勇气,第二句：一往无前的果敢，殚精竭虑的谋划。,生成句:舍我其谁的气场，扛旗夺杯的勇气。\n",
      "第一句：更加饱满的激情,第二句：更加昂扬的斗志，更加务实的作风。,生成句:更加昂扬的斗志，更加务实的作风。\n",
      "第一句：“孺子牛”的冲劲,第二句：“拓荒牛”的闯劲，“老黄牛”的干劲。,生成句:“拓荒牛”的闯劲，“老黄牛”的干劲。\n",
      "第一句：使出“闯”的干劲,第二句：拿出“抢”的状态，展现“新”的面貌。,生成句:使出“闯”的技巧。\n",
      "第一句：建好应急指挥中心、让“大脑”更智慧,第二句：建强应急救援队伍、让“铁拳”更有力，夯实装备物资保障、让“弹药”更充足。,生成句:打好“预警预警”牌\n",
      "第一句：经济成效更好,第二句：创新能力更强，改革开放更深，文明程度更高，生态环境更美，生活品质更优，治理效能更佳。,生成句:创新能力更强，改革开放更深。\n",
      "第一句：理想信念更坚定,第二句：政治品格更纯粹，斗争精神更昂扬，奋斗激情更饱满。,生成句:政治品格更纯粹，斗争精神更饱满。\n",
      "第一句：更高的政治站位,第二句：更宽的工作视野，更强的创新意识，更大的改革力度。,生成句:更加务实的举措，更务实的作风。\n",
      "第一句：更高站位明责于心,第二句：更强自觉担责于身，更严标准履责于行。,生成句:更加聚力抓实落实\n",
      "第一句：政策更有含金量,第二句：服务更有精准度，宣传更有影响力。,生成句:政策更有含量，政策更有力度。\n",
      "第一句：获得感更充盈,第二句：幸福感更可持续，安全感更有保障。,生成句:责任感更更强。\n",
      "第一句：更饱满的激情,第二句：更务实的作风，更强烈的担当。,生成句:更务实的作风，更务实的作风。\n",
      "第一句：念好紧箍咒,第二句：把好作风关,生成句:念咒咒咒咒。\n",
      "第一句：筑牢防火墙,第二句：把好廉洁关,生成句:筑牢“防火墙”。\n",
      "第一句：承创新”,第二句：赓续优良传统，不断改进创新,生成句:细化落实\n",
      "第一句：心交流,第二句：解决“一层纸”问题,生成句:在谋划部署上下功夫\n",
      "第一句：乡村“望”民情,第二句：观基层风貌,生成句:打好“民生”牌\n",
      "第一句：建议“闻”呼声,第二句：查百姓需要,生成句:保持“人”之力”\n",
      "第一句：只有占得先机,第二句：才能浴火重生、赢得未来；只有开创新局，才能破茧化蝶、赢得主动。,生成句:才能掌握主动权，才能掌控主动权。\n",
      "第一句：没有坚硬的石头,第二句：就砥砺不出锋利的刀刃；没有强大的对手，就锤炼不出过硬的素质。,生成句:比扎扎实的根基。\n",
      "第一句：经历时间沉淀,第二句：才能看清历史的坐标；站在高山之巅，更能领略河流的奔腾。,生成句:经经千锤百炼，历经千帆举重。\n",
      "第一句：高质量发展,第二句：是转型综改的纵向主轴；高水平崛起，是转型综改的横向坐标。,生成句:高质量发展高质量\n",
      "第一句：没有一种根基,第二句：比人民更加坚实；没有一种力量，比人民更加强大。,生成句:比扎根于人民更坚实；没有一种力量，比从群\n",
      "第一句：伟大的民族需要英雄精神的滋养,第二句：崇高的事业需要榜样引领的力量。,生成句:需要精神的滋养。\n",
      "第一句：党旗之所指,第二句：党员行动之所向；党旗之所在，人民福祉之所在。,生成句:在信念之上下功夫\n",
      "第一句：雄鹰高翔,第二句：靠的是有力的翅膀；猎豹奔跑，靠的是强健的四肢。,生成句:要有一片“红天”。\n",
      "第一句：沧海横流,第二句：方显英雄本色；关键时刻，彰显硬核力量。,生成句:济海一帆济沧海。\n",
      "第一句：问题再复杂,第二句：根子不会变；情况有发展，重点不会变。,生成句:再复杂，问题不再多。\n",
      "第一句：为科技创新激活力,第二句：为产业发展添动力，为全域发展聚合力，为扩大开放强推力，为营商环境增引力。,生成句:为产业增强增强活力\n",
      "第一句：助力科技创新的“刚需”,第二句：加快产业转型的“硬核”，优化营商环境的“标配”，促进对外开放的“招牌”。,生成句:解决产业发展的“瓶颈”。\n",
      "第一句：建立对表对标机制,第二句：贯彻落实闭环机制，健全监督保障机制。,生成句:对标比翼比学赶超，对比比学赶超。\n",
      "第一句：紧盯一流对标对表,第二句：紧扣问题小口切入，紧贴群众久久为功。,生成句:全面提升质量\n",
      "第一句：高位化调度,第二句：集成化作战，扁平化协调，一体化办理。,生成句:打好“高效牌”\n",
      "第一句：区域化布局,第二句：标准化生产，品牌化经营，融合化发展。,生成句:集成化发展\n",
      "第一句：以规划管布局,第二句：以规划管建设，以规划管发展。,生成句:以规划管发展，以规划管发展。\n",
      "第一句：逐条对照梳理,第二句：逐项制定措施，逐一明确责任。,生成句:每次检查整改\n",
      "第一句：政治站位,第二句：打好思想牌,生成句:强化使命意识\n",
      "第一句：调查研究,第二句：打好数据牌,生成句:解决实际问题\n",
      "第一句：打实“制度牌”,第二句：推动作风持续向好,生成句:营造和谐氛围\n",
      "第一句：打严“督办牌”,第二句：确保任务落到实处,生成句:找准整改方向\n",
      "第一句：是打好\"\"互动牌\"\",第二句：让普法更接地气\",生成句:搭建互联网行动\n",
      "第一句：是打好\"\"防范牌\"\",第二句：提升百姓安全感\",生成句:建立健全长效机制\n",
      "第一句：“智慧党建+党务信息公开”牌,第二句：变被动听为主动看,生成句:让公共法律服务到位\n",
      "第一句：“智慧党建+党建平台建设”牌,第二句：变被动找为主动送,生成句:实现“智慧化””\n",
      "第一句：搭建法律服务平台,第二句：打好“专业牌”,生成句:打好公共法律服务牌\n",
      "第一句：拓宽为民服务新渠道,第二句：打好“创新牌”,生成句:营造脱贫攻坚新环境\n",
      "第一句：打好“执法”牌,第二句：探索多维执法,生成句:维护“执法”形象\n",
      "第一句：思想、同心“合”力,第二句：打好“协同牌”,生成句:打好“共识”牌\n",
      "第一句：民生牌,第二句：村容村貌大变化,生成句:树牢幸福品牌\n",
      "第一句：以战略之举打造一流的创新生态,第二句：以长远之功培育一流的创新主体，以非常之策集聚一流的创新人才。,生成句:以超强手段破解一流的创新机制，以高质量发\n",
      "第一句：一篇鼓舞人心的“宣言书”,第二句：一部指引前行的“总纲领”，一次催人奋进的“动员令”。,生成句:一部“自警警”的“自警牌”。\n",
      "第一句： 一往无前加快思想破冰,第二句：一刻不停推动争先创优，一竿到底狠抓工作落实。,生成句:一以贯之强化思想基础，一以贯之强本领。\n",
      "第一句：以一流主业“提效益”,第二句：以一流管理“增活力”，以一流党建“强根基”。,生成句:以高质量招商招商，以高质量服务提高质量。\n",
      "第一句：决心一次下足,第二句：标准一次调高，措施一次定实，效果一次彰显。,生成句:一次次抓到位，一次次地落实。\n",
      "第一句：一生为党的忠心,第二句：一以贯之的初心，一往无前的信心。,生成句:葆葆初心的忠诚，葆葆初心的忠诚。\n",
      "第一句：落实到一言一行,第二句：体现在一点一滴，贯穿于一生一世。,生成句:落实到一点一滴。\n",
      "第一句：行政审批是“长跑”还是“短跑”,第二句：监管路口是“红灯”还是“绿灯”，服务通道是“低速”还是“高速”。,生成句:企业改革需要“长征征”。\n",
      "第一句：产业是根基,第二句：园区是阵地，项目是抓手，创新是引擎，开放是动能，环境是保障，共享是目的。,生成句:项目是抓手，平台是抓手。\n",
      "第一句：英模是一个民族的脊梁,第二句：英模是一个时代的坐标，英模是一支队伍的象征。,生成句:模范是一个国家的精神。\n",
      "第一句：道路自信是表征,第二句：理论自信是灵魂，制度自信是保障，文化自信是源泉。,生成句:信心不足是勇气。\n",
      "第一句：信仰是精神的支柱,第二句：信念是奋斗的航标，信心是力量的源泉。,生成句:信念是奋斗的动力，信念是力量的源泉。\n",
      "第一句：责任落实是否到位,第二句：问题解决是否彻底，整改成效是否明显。,生成句:明确“两个责任”\n",
      "第一句：项目建设是载体,第二句：招商引资是前提，营商环境是保障。,生成句:项目建设是载体，项目是载体。\n",
      "第一句：明理是前提,第二句：增信是保障，崇德是动力，力行是目标。,生成句:增信是关键，增信是保障。\n",
      "第一句：“钱袋子”,第二句：推进“科学理财”,生成句:建设幸福社区\n",
      "第一句：“扬声器”,第二句：推进“阳光惠财”,生成句:做“扩大器”。\n",
      "第一句：规范管理,第二句：打造品牌,生成句:提质增效\n",
      "第一句：科学减负,第二句：激发活力,生成句:打好“成效牌”\n",
      "第一句：文明执法,第二句：打好“感情牌”,生成句:打好“文明牌”\n",
      "第一句：“政策牌”,第二句：健全人才机制,生成句:优化办事体验\n",
      "第一句：站好“执勤岗”,第二句：打好“保障牌”,生成句:勤好“服务员”。\n",
      "第一句：走好“铁脚板”,第二句：打好“治理牌”,生成句:开出实干“新局”。\n",
      "第一句：“预警牌”,第二句：风险排查有力度,生成句:加强网络监管\n",
      "第一句：“化解牌”,第二句：纠纷调解有广度,生成句:解决“问题”问题\n",
      "第一句：消费提质“温情牌”,第二句：以改造“小市场”做好服务“大民生”,生成句:增强幸福指数\n",
      "第一句：创文战疫“创新牌”,第二句：以“小举措”营造宣传“大氛围”,生成句:让基层服务更有力\n",
      "第一句：以思想解放引领发展升级,第二句：以改革办法破解发展难题，以扩大开放拓展发展空间。,生成句:以改革办法破解发展难题。\n",
      "第一句：敢闯入未曾涉足的“盲区”,第二句：敢打破有碍发展的“禁区”，敢接手矛盾复杂的“难区”。,生成句:敢打破有碍发展的“禁区”。\n",
      "第一句：一见到问题就迂回,第二句：一碰到压力就逃避，一遇到矛盾就装睡。,生成句:一遇到压力就逃避，一遇到矛盾就装睡。\n",
      "第一句：永不服输的拼劲,第二句：雷厉风行的干劲，永不歇脚的韧劲。,生成句:永不退缩的韧劲。\n",
      "第一句：平常时可胜任,第二句：关键时可担大任，未来能挑重任。,生成句:打好业务基础。\n",
      "第一句：担当奋斗之责,第二句：赓续奋斗之志，激扬奋斗之情。,生成句:激发进取之干。\n",
      "第一句：干得了重活,第二句：打得了硬仗，经得了磨难。,生成句:打得了硬仗，攻得下山头。\n",
      "第一句：志气是定力,第二句：骨气是动力，底气是实力。,生成句:是本领，底气是底气。\n",
      "第一句：张牌：树立践行“两山”理论样板,第二句：建设一流的人文生态旅游目的地,生成句:打好“服务”牌\n",
      "第一句：打好绿色发展牌,第二句：咬定实体经济不放松,生成句:高质量发展迈出新步伐\n",
      "第一句：“政策牌”,第二句：广纳天下英才,生成句:让人才享受到“红利”\n",
      "第一句：“培育牌”,第二句：塑造优质良才,生成句:注重人才引进\n",
      "第一句：从关键少数入手,第二句：打好“法制牌”,生成句:从重点岗位抓起，从具体工作抓起。\n",
      "第一句：从重点指标入手,第二句：打好“业务牌”,生成句:从突出问题着眼，从具体工作抓起。\n",
      "第一句：提高社保,第二句：打好惠民牌,生成句:助力社会保障体系\n",
      "第一句：维护权益,第二句：打好安民牌,生成句:维护底线底线\n",
      "第一句：“全”字诀,第二句：打好信息公开“基础牌”,生成句:全面提升能力\n",
      "第一句：“快”字诀,第二句：打好热点回应“保障牌”,生成句:打好“快”牌”\n",
      "第一句：旅行者与目的地双向奔赴、惺惺相惜,第二句：才能让旅行真正成为有品质、有价值、有温度的生活方式。,生成句:工作者的“行动历程”\n",
      "第一句：始于颜值,第二句：爆单并不难，难的是忠于品质、留住口碑，跟风一阵、昙花一现，伤了消费者，对品牌、景区来说，都是得不偿失。,生成句:于事业上下功夫\n",
      "第一句：闲适因为忙碌才获得意义。如果摸鱼成为常态,第二句：放松就失去了意义；如果划水占据人生，幸福就会失去方向。,生成句:正是因因为奋斗奋斗，所以得到幸福不是可能\n",
      "第一句：法不能向不法让步,第二句：不能“能闹的孩子多给奶”“会哭的孩子有奶吃”，不能让守法者吃亏，这是人民群众的朴素情感，更符合中华民族的传统美德和善良风俗。,生成句:不能能向违法行为。\n",
      "第一句：一个文明的社会,第二句：一定是对所有公民都抱有温情和善意的社会。,生成句:一个健康的国家，一个文明的国家。\n",
      "第一句：健康中国,第二句：不仅要靠医疗卫生服务的“小处方”，更要靠社会整体联动的“大处方”。,生成句:健康中国\n",
      "第一句：“知屋漏者在宇下,第二句：知政失者在草野。”认识一个真实的中国，离不开基层视角、基层情怀。,生成句:则万钧不足举也”。\n",
      "第一句：党的工作最坚实的力量支撑在基层,第二句：经济社会发展和民生最突出的矛盾和问题在基层，一个国家治理体系和治理能力的现代化水平很大程度上也体现在基层。,生成句:政策落实最坚实的保障。\n",
      "第一句：不能鼓了钱袋,第二句：毁了生态。,生成句:不能贪名名利。\n",
      "第一句：生态环境没有替代品,第二句：用之不觉，失之难存。,生成句:打好“生态”牌\n",
      "第一句：中国共产党人的初心和使命,第二句：就是为中国人民谋幸福，为中华民族谋复兴。,生成句:还有着中国党人的精神状态\n",
      "第一句：从一百年前嘉兴南湖的一艘小小红船,第二句：到如今领航中国行稳致远的巍巍巨轮，中国共产党为什么“能”的密码，就隐藏在“有盐同咸，无盐同淡”的同甘共苦里，“绿我涓滴，会它千顷澄碧”的赤子情怀里，“你们不脱贫，我就不离开”的担当奉献里……,生成句:打造一个“快活中国的“新时代”。\n",
      "第一句：我将无我,第二句：不负人民。,生成句:我们只能有我的未来。\n",
      "第一句：不负人民,第二句：不仅是一种一以贯之的价值理念、深厚情怀，而且是无论付出多大牺牲和代价都始终不渝、毫不动摇的实际行动。,生成句:不负人民；不负人民，不负人民。\n",
      "第一句：患生于所忽,第二句：祸发于细微，比无畏更可怕的是心存侥幸，或许有些人认为意外是小概率事件，但再小的概率，都意味着有发生的可能性，而这一可能性一旦落在个体身上，就意味着沉重打击。,生成句:忧患在人\n",
      "第一句：做好“万无一失”的准备,第二句：才能避免“一失万无”的后果。,生成句:保持好“万无一失”的意志。\n",
      "第一句：“人都是有爱心的,第二句：要把它献出来才算圆满。”,生成句:是物质的价值，是物质的价值。”\n",
      "第一句：道德可以弥补能力的不足,第二句：能力却难以掩盖道德的缺陷。,生成句:能力不以弥补智力的不足。\n",
      "第一句：风声雨声读书声,第二句：声声入耳，家事国事天下事，事事关心——顾宪成,生成句:人生在风中书写。\n",
      "第一句：天下兴亡,第二句：匹夫有责——顾炎武,生成句:因循规则，循循规律律律。\n",
      "第一句：创新是一个民族进步的灵魂,第二句：是一个国家兴旺发达的不竭动力——江泽民,生成句:革命是一个国家的精神。\n",
      "第一句：人而无信,第二句：不知其可也(释：人如果不诚实，不知道他还能有什么事能做好)——论语,生成句:而人人无以担当其其事。\n",
      "第一句：勤勤恳恳办实事,第二句：无需计较名利得失，坦坦荡荡说真话，不必在意官位尊卑,生成句:善作善为办实事，竭力办实事。\n",
      "第一句：为政不在言多,第二句：须息息从省身克己而出，当官务持大体，思事事皆民生国计所关,生成句:为政不谋一己。\n",
      "第一句：仰高者不可忽其下,第二句：瞻前者不可忽其后——诸葛亮,生成句:匍匐者者不夺其心。\n",
      "第一句：民为贵,第二句：社稷次之，君为轻——孟子,生成句:下功夫转变发展方式\n",
      "第一句：决不能因为胜利而骄傲,第二句：决不能因为成就而懈怠，决不能因为困难而退缩。,生成句:因为胜利而骄傲，决不能因为败败而骄傲。\n",
      "第一句：“电视屏”上营销不断档,第二句：“显示屏”上宣传不断线，“手机屏”上活动不断流。,生成句:“春节经济”红包不断。\n",
      "第一句：不唯条件引进人才,第二句：不求所有开发人才，不拘一格用好人才。,生成句:不拘一格用好人才。\n",
      "第一句：协调不到位而悬空,第二句：服务不到位而延误，落实不到位而流产。,生成句:协调不畅畅，成效不足。\n",
      "第一句：坚持原则不动摇,第二句：贯彻决策不走样，履行程序不变通。,生成句:坚持底线不动摇，坚持初心不动摇。\n",
      "第一句：知重负重不退缩,第二句：勇担责任不逃避，顶住压力不短视。,生成句:担当重不退缩，重任不推诿。\n",
      "第一句：开放不止步,第二句：改革不停步，攻坚不让步。,生成句:关闭不歇脚。\n",
      "第一句：闻过不放过,第二句：思过不诿过，改过不贰过。,生成句:不挑不拣，不遮盖掩掩。\n",
      "第一句：念牢政治纪律“紧箍咒”,第二句：恪守政治规矩“高压线”。,生成句:筑牢廉政规矩“防火墙”。\n",
      "第一句：常掸心灵灰尘,第二句：常清思想垃圾，常掏灵魂旮旯。,生成句:祛除灵魂之病。\n",
      "第一句：不为眼前浮华所扰,第二句：不为俗世纷纭所惑。,生成句:不为物欲欲望所扰，不为物欲所累。\n",
      "第一句：蚁穴可溃千丈之堤,第二句：突隙能焚百尺之室。,生成句:难蚁筑起万万万里。\n",
      "第一句：常态化自查自纠,第二句：精准化补缺补差。,生成句:形成自警自省自省。\n",
      "第一句：勤廉者平安一世,第二句：贪婪者自毁一生。,生成句:奉献者永葆初心。\n",
      "第一句：常思“严”之益,第二句：常念“纵”之害。,生成句:勤做“有成”事。\n",
      "第一句：筑牢“防火墙”,第二句：切断“传导线”。,生成句:筑牢“防火墙”。\n",
      "第一句：信仰之光不灭,第二句：精神之炬不熄。,生成句:信念之力永葆。\n",
      "第一句：封住小问题,第二句：堵死小管涌。,生成句:抓住大问题。\n",
      "0.0\n"
     ]
    }
   ],
   "source": [
    "#测试\r\n",
    "import nltk\r\n",
    "\r\n",
    "bleu_socre=0.0\r\n",
    "test_data_ori = pd.read_csv('work/test_file.txt', names=['first','second'], header=None,sep='\\t').astype(str)\r\n",
    "test_data_len=len(test_data_ori)\r\n",
    "for i in range(test_data_len):\r\n",
    "    input_text=test_data_ori.iloc[i,0]\r\n",
    "    # test_data_ori.iloc[i,0]  = jieba.lcut(input_text) \r\n",
    "    # test_data_ori.iloc[i,1]  = jieba.lcut(test_data_ori.iloc[i,1]) \r\n",
    "    label_text=test_data_ori.iloc[i,1]\r\n",
    "    # print(textGen(input_text))\r\n",
    "    # pred_text=jieba.lcut(textGen(input_text))\r\n",
    "    pred_text=textGen(input_text)\r\n",
    "    print('第一句：'+input_text+',第二句：'+label_text+',生成句:'+pred_text)\r\n",
    "    # BLEUscore = nltk.translate.bleu_score.sentence_bleu([label_text], pred_text)\r\n",
    "    # bleu_socre+=BLEUscore\r\n",
    "\r\n",
    "final_score=bleu_socre/test_data_len\r\n",
    "print(final_score)\r\n",
    "\r\n",
    "# hypothesis = ['坚','持','不','懈','解','决','问','题']\r\n",
    "# reference = ['坚','持','2','懈','解','决','问','题']\r\n",
    "# #there may be several references\r\n",
    "# BLEUscore = nltk.translate.bleu_score.sentence_bleu([reference], hypothesis)\r\n",
    "# print(BLEUscore)"
   ]
  }
 ],
 "metadata": {
  "kernelspec": {
   "display_name": "Python 3",
   "language": "python",
   "name": "py35-paddle1.2.0"
  },
  "language_info": {
   "codemirror_mode": {
    "name": "ipython",
    "version": 3
   },
   "file_extension": ".py",
   "mimetype": "text/x-python",
   "name": "python",
   "nbconvert_exporter": "python",
   "pygments_lexer": "ipython3",
   "version": "3.7.4"
  }
 },
 "nbformat": 4,
 "nbformat_minor": 1
}
